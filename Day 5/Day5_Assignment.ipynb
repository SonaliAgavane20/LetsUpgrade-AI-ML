{
 "cells": [
  {
   "cell_type": "markdown",
   "metadata": {},
   "source": [
    "__Question 1 :\n",
    "Write a Python program to find the first 20 non-even prime natural numbers__"
   ]
  },
  {
   "cell_type": "code",
   "execution_count": 7,
   "metadata": {},
   "outputs": [
    {
     "name": "stdout",
     "output_type": "stream",
     "text": [
      "3 5 7 11 13 17 19 23 29 31 37 41 43 47 53 59 61 67 71 73 "
     ]
    }
   ],
   "source": [
    "count = 0\n",
    "for a in range(3,100,2):\n",
    "    k=0\n",
    "    for i in range(2,a):\n",
    "        if(a%i==0):\n",
    "            k+=1  \n",
    "    if k<=0 and count < 20:\n",
    "        print(a,end=\" \")\n",
    "        count+=1"
   ]
  },
  {
   "cell_type": "markdown",
   "metadata": {},
   "source": [
    "__Question 2 :\n",
    "Write a Python program to implement 15 functions of string__"
   ]
  },
  {
   "cell_type": "code",
   "execution_count": 15,
   "metadata": {},
   "outputs": [
    {
     "name": "stdout",
     "output_type": "stream",
     "text": [
      "Converted first value to upper case using capitalize :  Hi i am enjoying learning python and aiml with letsupgrade\n",
      "Count of occurance of 'h' in str is :  3\n",
      "Convert str to upper case :  HI I AM ENJOYING LEARNING PYTHON AND AIML WITH LETSUPGRADE\n",
      "Convert str to lower case :  hi i am enjoying learning python and aiml with letsupgrade\n",
      "find method Searches the string for a specified value and returns the position of where it was found :  37\n",
      "Returns true if all characters in the string are digits :  False\n",
      "center returns a centered string :  hi i am enjoying learning python and AIML with LetsUpgrade\n",
      "isprintable returns True if all characters in the string are printable :  True\n",
      "isnumeric returns True if all characters in the string are numeric :  False\n",
      "islower returns True if all characters in the string are lower case :  False\n",
      "isidentifier returns True if the string is an identifier :  False\n",
      "isdecimal returns True if all characters in the string are decimals :  False\n",
      "index method Searches the string for a specified value and returns the position of where it was found :  47\n"
     ]
    }
   ],
   "source": [
    "str = \"hi i am enjoying learning python and AIML with LetsUpgrade\"\n",
    "print('Converted first value to upper case using capitalize : ',str.capitalize())\n",
    "print(\"Count of occurance of \\'h' in str is : \",str.count('h'))\n",
    "print('Convert str to upper case : ',str.upper())\n",
    "print('Convert str to lower case : ',str.lower())\n",
    "print('find method Searches the string for a specified value and returns the position of where it was found : ',str.find('AIML'))\n",
    "print('Returns true if all characters in the string are digits : ',str.isdigit())\n",
    "print('center returns a centered string : ',str.center(10))\n",
    "print('isprintable returns True if all characters in the string are printable : ',str.isprintable())\n",
    "print('isnumeric returns True if all characters in the string are numeric : ',str.isnumeric())\n",
    "print('islower returns True if all characters in the string are lower case : ',str.islower())\n",
    "print('isidentifier returns True if the string is an identifier : ',str.isidentifier())\n",
    "print('isdecimal returns True if all characters in the string are decimals : ',str.isdecimal())\n",
    "print('index method Searches the string for a specified value and returns the position of where it was found : ',str.index(\"LetsUpgrade\"))"
   ]
  },
  {
   "cell_type": "markdown",
   "metadata": {},
   "source": [
    "__Question 3 :\n",
    "Write a Python program to check if the given string is a Palindrome or Anagram or None of them.\n",
    "Display the message accordingly to the user__"
   ]
  },
  {
   "cell_type": "code",
   "execution_count": 16,
   "metadata": {},
   "outputs": [
    {
     "name": "stdout",
     "output_type": "stream",
     "text": [
      "malayalam is a palindrome string\n"
     ]
    }
   ],
   "source": [
    "str = 'malayalam'\n",
    "rev_str = str[::-1]\n",
    "if str == rev_str:\n",
    "    print(f'{str} is a palindrome string')\n",
    "else:\n",
    "    print(f'{str} is not a palindrome string')"
   ]
  },
  {
   "cell_type": "markdown",
   "metadata": {},
   "source": [
    "__Question 4 :\n",
    "Write a Python's user defined function that removes all the additional characters from the string\n",
    "and converts it finally to lower case using built-in lower(). eg: If the string is \"Dr. Darshan Ingle\n",
    "@AI-ML Trainer\", then the output be \"drdarshaningleaimltrainer\"__"
   ]
  },
  {
   "cell_type": "code",
   "execution_count": 17,
   "metadata": {},
   "outputs": [
    {
     "name": "stdout",
     "output_type": "stream",
     "text": [
      "old string :  Dr. Darshan Ingle @AI-ML Trainer\n",
      "converted string :  drdarshaningleaimltrainer\n"
     ]
    }
   ],
   "source": [
    "def StringConversion(str):\n",
    "    new_str = \"\"\n",
    "    for char in str:\n",
    "        if char.isalnum():\n",
    "            new_str += char\n",
    "    return new_str.lower()\n",
    "str = \"Dr. Darshan Ingle @AI-ML Trainer\"\n",
    "print('old string : ',str)\n",
    "converted_str = StringConversion(str)\n",
    "print('converted string : ',converted_str)"
   ]
  }
 ],
 "metadata": {
  "kernelspec": {
   "display_name": "Python 3",
   "language": "python",
   "name": "python3"
  },
  "language_info": {
   "codemirror_mode": {
    "name": "ipython",
    "version": 3
   },
   "file_extension": ".py",
   "mimetype": "text/x-python",
   "name": "python",
   "nbconvert_exporter": "python",
   "pygments_lexer": "ipython3",
   "version": "3.7.6"
  }
 },
 "nbformat": 4,
 "nbformat_minor": 4
}
