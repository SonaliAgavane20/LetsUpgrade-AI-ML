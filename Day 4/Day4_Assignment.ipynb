{
 "cells": [
  {
   "cell_type": "markdown",
   "metadata": {},
   "source": [
    "__Question 1 :\n",
    "Research on whether addition, subtraction, multiplication, division, floor division and modulo\n",
    "operations be performed on complex numbers. Based on your study, implement a Python\n",
    "program to demonstrate these operations__\n"
   ]
  },
  {
   "cell_type": "code",
   "execution_count": 5,
   "metadata": {},
   "outputs": [
    {
     "name": "stdout",
     "output_type": "stream",
     "text": [
      "Addition :  (3+7j)\n",
      "Subtraction :  (1+1j)\n",
      "Multiplication :  (-10+10j)\n",
      "Division :  (1.4000000000000001-0.2j)\n",
      "Arithmatic error :  can't take floor of complex number.\n",
      "Arithmatic error :  can't mod complex numbers.\n"
     ]
    }
   ],
   "source": [
    "def Addition(num1, num2):\n",
    "    try:\n",
    "        print(\"Addition : \",num1 + num2)\n",
    "    except Exception as e:\n",
    "        print(\"Arithmatic error : \",e)\n",
    "def Subtraction(num1, num2):\n",
    "    try:\n",
    "        print(\"Subtraction : \",num1 - num2)\n",
    "    except Exception as e:\n",
    "        print(\"Arithmatic error : \",e)\n",
    "def Multiplication(num1, num2):\n",
    "    try:\n",
    "        print(\"Multiplication : \",num1 * num2)\n",
    "    except Exception as e:\n",
    "        print(\"Arithmatic error : \",e)\n",
    "def Division(num1 , num2):\n",
    "    try:\n",
    "        print(\"Division : \",num1 / num2)\n",
    "    except Exception as e:\n",
    "        print(\"Arithmatic error : \",e)\n",
    "def Floor_Division(num1, num2):\n",
    "    try:\n",
    "        print(\"Floor_Division : \",num1 // num2)\n",
    "    except Exception as e:\n",
    "        print(\"Arithmatic error : \",e)\n",
    "def Modulo_Operation(num1, num2):\n",
    "    try:\n",
    "        print(\"Modulo_Operation : \",num1 % num2)\n",
    "    except Exception as e:\n",
    "        print(\"Arithmatic error : \",e)\n",
    "number1 = 2 + 4j\n",
    "number2 = 1 + 3j\n",
    "Addition(number1, number2)\n",
    "Subtraction(number1, number2)\n",
    "Multiplication(number1, number2)\n",
    "Division(number1, number2)\n",
    "Floor_Division(number1, number2)\n",
    "Modulo_Operation(number1, number2)"
   ]
  },
  {
   "cell_type": "markdown",
   "metadata": {},
   "source": [
    "__Question 2 :\n",
    "Research on range() functions and its parameters. Create a markdown cell and write in your own\n",
    "words (no copy-paste from google please) what you understand about it. Implement a small\n",
    "program of your choice on the same__ "
   ]
  },
  {
   "cell_type": "markdown",
   "metadata": {},
   "source": [
    "__range() in Python :__\n",
    "\n",
    "range() function in python returns a sequence of numbers starting from 0 and increment by 1 (by default) and stops at specific number.\n",
    "\n",
    "syntax - range(start, stop, step)\n",
    "\n",
    "start - It is optional parameter which takes integer value specifies the start position. By default it starts from 0.\n",
    "\n",
    "stop - It is mandetory parameter which takes integer value specifies the stop position.\n",
    "\n",
    "step - It is optional parameter which takes integer value specifies incrementation. By default increments by 1."
   ]
  },
  {
   "cell_type": "code",
   "execution_count": 1,
   "metadata": {},
   "outputs": [
    {
     "name": "stdout",
     "output_type": "stream",
     "text": [
      "5\n",
      "10\n",
      "15\n",
      "20\n",
      "25\n",
      "30\n",
      "35\n",
      "40\n",
      "45\n"
     ]
    }
   ],
   "source": [
    "seq = range(5,50,5)\n",
    "for num in seq:\n",
    "    print(num)"
   ]
  },
  {
   "cell_type": "markdown",
   "metadata": {},
   "source": [
    "__Question 3 :\n",
    " Consider two numbers. Perform their subtraction and if the result of subtraction is greater than\n",
    "25, print their multiplication result else print their division result__"
   ]
  },
  {
   "cell_type": "code",
   "execution_count": 4,
   "metadata": {},
   "outputs": [
    {
     "name": "stdout",
     "output_type": "stream",
     "text": [
      "subtraction of 20 and 10 is less than 25. Result of Division is :  2.0\n"
     ]
    }
   ],
   "source": [
    "def Multiplication(num1,num2):\n",
    "    return num1 * num2\n",
    "def Division(num1,num2):\n",
    "    return num1 / num2\n",
    "num1 = 20\n",
    "num2 = 10\n",
    "subtraction = num1 - num2\n",
    "if subtraction > 25:\n",
    "    print(f\"subtraction of {num1} and {num2} is greater than 25. Result of Multiplication is : \",Multiplication(num1,num2))\n",
    "else:\n",
    "    print(f\"subtraction of {num1} and {num2} is less than 25. Result of Division is : \",Division(num1,num2))"
   ]
  },
  {
   "cell_type": "markdown",
   "metadata": {},
   "source": [
    "__Question 4 :\n",
    "Consider a list of 10 elements of integer values. If the number in the list is divisible by 2, print the\n",
    "result as \"square of that number minus 2\"__"
   ]
  },
  {
   "cell_type": "code",
   "execution_count": 7,
   "metadata": {},
   "outputs": [
    {
     "name": "stdout",
     "output_type": "stream",
     "text": [
      "Square of 4 minus 2 is :  14\n",
      "Square of 6 minus 2 is :  34\n",
      "Square of 24 minus 2 is :  574\n",
      "Square of 40 minus 2 is :  1598\n"
     ]
    }
   ],
   "source": [
    "L = [4,3,6,27,5,1,24,11,7,40]\n",
    "for num in L:\n",
    "    if num % 2 == 0:\n",
    "        print(f\"Square of {num} minus 2 is : \",num**2 - 2)"
   ]
  },
  {
   "cell_type": "markdown",
   "metadata": {},
   "source": [
    "__Question 5 :\n",
    "Consider a list of 10 elements. Print all the elements in the list which are greater than 7 when that\n",
    "number is divided 2__"
   ]
  },
  {
   "cell_type": "code",
   "execution_count": 10,
   "metadata": {},
   "outputs": [
    {
     "name": "stdout",
     "output_type": "stream",
     "text": [
      "elements in the list which are greater than 7 when that number is divided 2 : \n"
     ]
    },
    {
     "data": {
      "text/plain": [
       "[27, 24, 40]"
      ]
     },
     "execution_count": 10,
     "metadata": {},
     "output_type": "execute_result"
    }
   ],
   "source": [
    "L = [4,3,6,27,5,1,24,11,7,40]\n",
    "result = []\n",
    "for num in L:\n",
    "    if (num / 2) > 7:\n",
    "        result.append(num)\n",
    "print(\"elements in the list which are greater than 7 when that number is divided 2 : \")\n",
    "list(result)"
   ]
  }
 ],
 "metadata": {
  "kernelspec": {
   "display_name": "Python 3",
   "language": "python",
   "name": "python3"
  },
  "language_info": {
   "codemirror_mode": {
    "name": "ipython",
    "version": 3
   },
   "file_extension": ".py",
   "mimetype": "text/x-python",
   "name": "python",
   "nbconvert_exporter": "python",
   "pygments_lexer": "ipython3",
   "version": "3.7.6"
  }
 },
 "nbformat": 4,
 "nbformat_minor": 4
}
