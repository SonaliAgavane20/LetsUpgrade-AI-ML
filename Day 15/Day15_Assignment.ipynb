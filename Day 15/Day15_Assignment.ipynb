{
 "cells": [
  {
   "cell_type": "markdown",
   "metadata": {},
   "source": [
    "# 1. Create a 3x3x3 array with random values "
   ]
  },
  {
   "cell_type": "code",
   "execution_count": 4,
   "metadata": {},
   "outputs": [
    {
     "data": {
      "text/plain": [
       "array([[[0.28659523, 0.28764957, 0.43895188],\n",
       "        [0.60612669, 0.29491788, 0.37015677],\n",
       "        [0.61877764, 0.44025027, 0.75408509]],\n",
       "\n",
       "       [[0.29065112, 0.85028706, 0.08094387],\n",
       "        [0.50456067, 0.15744676, 0.33944682],\n",
       "        [0.53421152, 0.33003964, 0.7685461 ]],\n",
       "\n",
       "       [[0.02656272, 0.02051215, 0.38142363],\n",
       "        [0.38043047, 0.81570824, 0.55937446],\n",
       "        [0.35777327, 0.04752837, 0.7183529 ]]])"
      ]
     },
     "execution_count": 4,
     "metadata": {},
     "output_type": "execute_result"
    }
   ],
   "source": [
    "import numpy as np\n",
    "arr = np.random.random((3,3,3))\n",
    "arr"
   ]
  },
  {
   "cell_type": "markdown",
   "metadata": {},
   "source": [
    "# 2.Create a 5x5 matrix with values 1,2,3,4 just below the diagonal"
   ]
  },
  {
   "cell_type": "code",
   "execution_count": 8,
   "metadata": {},
   "outputs": [
    {
     "data": {
      "text/plain": [
       "array([[0, 0, 0, 0, 0],\n",
       "       [1, 0, 0, 0, 0],\n",
       "       [0, 2, 0, 0, 0],\n",
       "       [0, 0, 3, 0, 0],\n",
       "       [0, 0, 0, 4, 0]])"
      ]
     },
     "execution_count": 8,
     "metadata": {},
     "output_type": "execute_result"
    }
   ],
   "source": [
    "arr = np.diag([1,2,3,4],-1)\n",
    "arr"
   ]
  },
  {
   "cell_type": "markdown",
   "metadata": {},
   "source": [
    "# 3.Create a 8x8 matrix and fill it with a checkerboard pattern"
   ]
  },
  {
   "cell_type": "code",
   "execution_count": 11,
   "metadata": {},
   "outputs": [
    {
     "data": {
      "text/plain": [
       "array([[0, 1, 0, 1, 0, 1, 0, 1],\n",
       "       [1, 0, 1, 0, 1, 0, 1, 0],\n",
       "       [0, 1, 0, 1, 0, 1, 0, 1],\n",
       "       [1, 0, 1, 0, 1, 0, 1, 0],\n",
       "       [0, 1, 0, 1, 0, 1, 0, 1],\n",
       "       [1, 0, 1, 0, 1, 0, 1, 0],\n",
       "       [0, 1, 0, 1, 0, 1, 0, 1],\n",
       "       [1, 0, 1, 0, 1, 0, 1, 0]])"
      ]
     },
     "execution_count": 11,
     "metadata": {},
     "output_type": "execute_result"
    }
   ],
   "source": [
    "arr = np.zeros((8,8),dtype=int)\n",
    "arr[::2,1::2]=1\n",
    "arr[1::2,::2]=1\n",
    "arr"
   ]
  },
  {
   "cell_type": "markdown",
   "metadata": {},
   "source": [
    "# 4. Normalize a 5x5 random matrix"
   ]
  },
  {
   "cell_type": "code",
   "execution_count": 16,
   "metadata": {},
   "outputs": [
    {
     "name": "stdout",
     "output_type": "stream",
     "text": [
      "Original Array:\n",
      "[[0.85573674 0.17513893 0.97886271 0.05472597 0.95809949]\n",
      " [0.41210525 0.01094809 0.46521045 0.57031721 0.09362777]\n",
      " [0.74676454 0.56658913 0.4182706  0.73018387 0.18368351]\n",
      " [0.19889773 0.74100919 0.24689897 0.00490891 0.97531425]\n",
      " [0.98659929 0.83822258 0.33800592 0.03475129 0.60861974]]\n",
      "After normalization:\n",
      "[[0.86669672 0.17340499 0.99211913 0.0507462  0.97096865]\n",
      " [0.41479101 0.00615181 0.46888668 0.5759538  0.09037356]\n",
      " [0.75569207 0.57215618 0.42107135 0.73880215 0.18210894]\n",
      " [0.19760693 0.74982937 0.24650344 0.         0.98850449]\n",
      " [1.         0.8488559  0.33930964 0.03039897 0.61497071]]\n"
     ]
    }
   ],
   "source": [
    "arr= np.random.random((5,5))\n",
    "print(\"Original Array:\")\n",
    "print(arr)\n",
    "arrmax, arrmin = arr.max(), arr.min()\n",
    "norm_arr = (arr - arrmin)/(arrmax - arrmin)\n",
    "print(\"After normalization:\")\n",
    "print(norm_arr)"
   ]
  },
  {
   "cell_type": "markdown",
   "metadata": {},
   "source": [
    "# 5.  How to find common values between two arrays?"
   ]
  },
  {
   "cell_type": "code",
   "execution_count": 8,
   "metadata": {},
   "outputs": [
    {
     "name": "stdout",
     "output_type": "stream",
     "text": [
      "Array 1 :  [4, 6, 2, 3, 8]\n",
      "Array 2 :  [1, 5, 4, 7, 6, 8]\n",
      "Common Values between two arrays :  [4 6 8]\n"
     ]
    }
   ],
   "source": [
    "arr1=[4,6,2,3,8]\n",
    "print(\"Array 1 : \", arr1)\n",
    "arr2=[1,5,4,7,6,8]\n",
    "print(\"Array 2 : \", arr2)\n",
    "print(\"Common Values between two arrays : \", np.intersect1d(arr1,arr2))"
   ]
  },
  {
   "cell_type": "markdown",
   "metadata": {},
   "source": [
    "# 6.How to get the dates of yesterday, today and tomorrow?"
   ]
  },
  {
   "cell_type": "code",
   "execution_count": 17,
   "metadata": {},
   "outputs": [
    {
     "name": "stdout",
     "output_type": "stream",
     "text": [
      "Yesterday :  2020-07-27\n",
      "Today :  2020-07-28\n",
      "Tommorow :  2020-07-29\n"
     ]
    }
   ],
   "source": [
    "today = np.datetime64('today')\n",
    "yesterday=np.datetime64(today)-np.timedelta64(1)\n",
    "print(\"Yesterday : \",yesterday)\n",
    "print(\"Today : \",today)\n",
    "tommorow = np.datetime64(today)+np.timedelta64(1)\n",
    "print(\"Tommorow : \",tommorow)"
   ]
  },
  {
   "cell_type": "markdown",
   "metadata": {},
   "source": [
    "# 7. Consider two random array A and B, check if they are equal"
   ]
  },
  {
   "cell_type": "code",
   "execution_count": 30,
   "metadata": {},
   "outputs": [
    {
     "name": "stdout",
     "output_type": "stream",
     "text": [
      "Array 1 :  [1 4 4 4 0]\n",
      "Array 2 :  [4 0 3 0 0]\n"
     ]
    },
    {
     "data": {
      "text/plain": [
       "False"
      ]
     },
     "execution_count": 30,
     "metadata": {},
     "output_type": "execute_result"
    }
   ],
   "source": [
    "arrA=np.random.randint(0,5,5)\n",
    "print(\"Array 1 : \", arrA)\n",
    "arrB=np.random.randint(0,5,5)\n",
    "print(\"Array 2 : \", arrB)\n",
    "result = np.array_equal(arrA,arrB)\n",
    "result"
   ]
  },
  {
   "cell_type": "markdown",
   "metadata": {},
   "source": [
    "# 8.Create random vector of size 10 and replace the maximum value by 0 "
   ]
  },
  {
   "cell_type": "code",
   "execution_count": 33,
   "metadata": {},
   "outputs": [
    {
     "name": "stdout",
     "output_type": "stream",
     "text": [
      "[0.48129457 0.04829548 0.87301498 0.32136144 0.75962074 0.08310969\n",
      " 0.32058145 0.15048974 0.08944835 0.12486178]\n",
      "[0.48129457 0.04829548 0.         0.32136144 0.75962074 0.08310969\n",
      " 0.32058145 0.15048974 0.08944835 0.12486178]\n"
     ]
    }
   ],
   "source": [
    "arr=np.random.random(10)\n",
    "print(arr)\n",
    "arr[arr.argmax()]=0\n",
    "print(arr)"
   ]
  },
  {
   "cell_type": "markdown",
   "metadata": {},
   "source": [
    "# 9. How to print all the values of an array?"
   ]
  },
  {
   "cell_type": "code",
   "execution_count": 37,
   "metadata": {},
   "outputs": [
    {
     "name": "stdout",
     "output_type": "stream",
     "text": [
      "[6488161 7209071 6357092 6029363 6488147 6881394 7602288 3866739 3801155\n",
      " 5570652]\n"
     ]
    }
   ],
   "source": [
    "arr=np.empty((10),dtype=int)\n",
    "print(arr)"
   ]
  },
  {
   "cell_type": "markdown",
   "metadata": {},
   "source": [
    "# 10.Subtract the mean of each row of a matrix"
   ]
  },
  {
   "cell_type": "code",
   "execution_count": 38,
   "metadata": {},
   "outputs": [
    {
     "name": "stdout",
     "output_type": "stream",
     "text": [
      "Original matrix:\n",
      " [[0.86372839 0.86896847 0.33488775 0.58071708]\n",
      " [0.36861848 0.74868672 0.86066636 0.31252189]]\n",
      "\n",
      "Subtract the mean of each row of the original matrix:\n",
      " [[ 0.20165297  0.20689305 -0.32718767 -0.08135834]\n",
      " [-0.20400488  0.17606336  0.288043   -0.26010147]]\n"
     ]
    }
   ],
   "source": [
    "arr = np.random.rand(2, 4)\n",
    "print(\"Original matrix:\\n\",arr)\n",
    "res_arr = arr - arr.mean(axis=1, keepdims=True)\n",
    "print(\"\\nSubtract the mean of each row of the original matrix:\\n\",res_arr)"
   ]
  },
  {
   "cell_type": "markdown",
   "metadata": {},
   "source": [
    "# 11.Consider a given vector, how to add 1 to each element indexed by a second vector (be careful with repeated indices)? "
   ]
  },
  {
   "cell_type": "code",
   "execution_count": 5,
   "metadata": {},
   "outputs": [
    {
     "name": "stdout",
     "output_type": "stream",
     "text": [
      "[5 7 0 4 5]\n",
      "[5 8 1 5 5]\n"
     ]
    }
   ],
   "source": [
    "import numpy as np\n",
    "arr = np.random.randint(0, 10, 5)\n",
    "print(arr)\n",
    "arr1 = [1,2,3]\n",
    "arr[arr1] +=1\n",
    "print(arr)"
   ]
  },
  {
   "cell_type": "markdown",
   "metadata": {},
   "source": [
    "# 12.How to get the diagonal of a dot product?"
   ]
  },
  {
   "cell_type": "code",
   "execution_count": 40,
   "metadata": {},
   "outputs": [
    {
     "name": "stdout",
     "output_type": "stream",
     "text": [
      "First Array : \n",
      " [[8 7 1]\n",
      " [1 0 7]\n",
      " [3 8 0]]\n",
      "Second Array : \n",
      " [[2 3 4]\n",
      " [1 1 0]\n",
      " [4 6 8]]\n",
      "diagonal of a dot product : \n",
      " [27 45 12]\n"
     ]
    }
   ],
   "source": [
    "first_arr = np.random.randint(0,10,(3,3))\n",
    "print(\"First Array : \\n\",first_arr)\n",
    "second_arr= np.random.randint(0,10,(3,3))\n",
    "print(\"Second Array : \\n\",second_arr)\n",
    "dot_product = np.dot(first_arr, second_arr)\n",
    "Diag_result=np.diag(dot_product)\n",
    "print(\"diagonal of a dot product : \\n\",Diag_result)"
   ]
  },
  {
   "cell_type": "markdown",
   "metadata": {},
   "source": [
    "# 13.How to find the most frequent value in an array?"
   ]
  },
  {
   "cell_type": "code",
   "execution_count": 42,
   "metadata": {},
   "outputs": [
    {
     "name": "stdout",
     "output_type": "stream",
     "text": [
      "Original array:\n",
      " [8 0 8 6 4 8 9 1 6 2 0 1 1 7 6 1 1 5 7 4 0 0 1 1 7 9 1 5 6 3 7 5 3 8 5 3 5\n",
      " 7 2 8]\n",
      "Most frequent value in the above array :  1\n"
     ]
    }
   ],
   "source": [
    "arr = np.random.randint(0, 10, 40)\n",
    "print(\"Original array:\\n\",arr)\n",
    "res = np.bincount(arr).argmax()\n",
    "print(\"Most frequent value in the above array : \",res)"
   ]
  },
  {
   "cell_type": "markdown",
   "metadata": {},
   "source": [
    "# 14.How to get the n largest values of an array"
   ]
  },
  {
   "cell_type": "code",
   "execution_count": 47,
   "metadata": {},
   "outputs": [
    {
     "name": "stdout",
     "output_type": "stream",
     "text": [
      "Original array: [8 3 6 5 7 1 0 4 2 9]\n",
      "Largest n values of an array :  [7 8 9]\n"
     ]
    }
   ],
   "source": [
    "arr = np.arange(10)\n",
    "np.random.shuffle(arr)\n",
    "print(\"Original array:\",arr)\n",
    "n = 3\n",
    "res = arr[np.argsort(arr)[-n:]]\n",
    "print(\"Largest n values of an array : \",res)"
   ]
  },
  {
   "cell_type": "markdown",
   "metadata": {},
   "source": [
    "# 15.How to create a record array from a regular array?"
   ]
  },
  {
   "cell_type": "code",
   "execution_count": 51,
   "metadata": {},
   "outputs": [
    {
     "data": {
      "text/plain": [
       "rec.array([(8, 'Black', 10), (3, 'Blue', 20), (6, 'White', 30),\n",
       "           (2, 'Red', 40)],\n",
       "          dtype=[('a', '<i4'), ('b', '<U5'), ('c', '<i4')])"
      ]
     },
     "execution_count": 51,
     "metadata": {},
     "output_type": "execute_result"
    }
   ],
   "source": [
    "arr1=np.array([8,3,6,2])\n",
    "arr2=np.array(['Black','Blue','White','Red'])\n",
    "arr3=np.array([10,20,30,40])\n",
    "result= np.core.records.fromarrays([arr1, arr2, arr3],names='a,b,c')\n",
    "result"
   ]
  }
 ],
 "metadata": {
  "kernelspec": {
   "display_name": "Python 3",
   "language": "python",
   "name": "python3"
  },
  "language_info": {
   "codemirror_mode": {
    "name": "ipython",
    "version": 3
   },
   "file_extension": ".py",
   "mimetype": "text/x-python",
   "name": "python",
   "nbconvert_exporter": "python",
   "pygments_lexer": "ipython3",
   "version": "3.7.6"
  }
 },
 "nbformat": 4,
 "nbformat_minor": 2
}
