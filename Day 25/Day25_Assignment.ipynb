{
 "cells": [
  {
   "cell_type": "code",
   "execution_count": 2,
   "metadata": {},
   "outputs": [],
   "source": [
    "#importing modules and packages\n",
    "import pandas as pd\n",
    "from sklearn import preprocessing\n",
    "from sklearn.naive_bayes import GaussianNB,BernoulliNB\n",
    "from sklearn.metrics import accuracy_score,confusion_matrix\n",
    "from sklearn.model_selection import train_test_split"
   ]
  },
  {
   "cell_type": "code",
   "execution_count": 3,
   "metadata": {},
   "outputs": [
    {
     "data": {
      "text/plain": [
       "PassengerId      0\n",
       "Survived         0\n",
       "Pclass           0\n",
       "Name             0\n",
       "Sex              0\n",
       "Age              0\n",
       "SibSp            0\n",
       "Parch            0\n",
       "Ticket           0\n",
       "Fare             0\n",
       "Cabin          687\n",
       "Embarked         0\n",
       "dtype: int64"
      ]
     },
     "execution_count": 3,
     "metadata": {},
     "output_type": "execute_result"
    }
   ],
   "source": [
    "#loading and cleaning Data\n",
    "titanic_dataset = pd.read_csv(\"train.csv\")\n",
    "titanic_dataset.shape\n",
    "titanic_dataset.isna().sum()"
   ]
  },
  {
   "cell_type": "code",
   "execution_count": 4,
   "metadata": {},
   "outputs": [
    {
     "data": {
      "text/plain": [
       "Index(['PassengerId', 'Survived', 'Pclass', 'Name', 'Sex', 'Age', 'SibSp',\n",
       "       'Parch', 'Ticket', 'Fare', 'Cabin', 'Embarked'],\n",
       "      dtype='object')"
      ]
     },
     "execution_count": 4,
     "metadata": {},
     "output_type": "execute_result"
    }
   ],
   "source": [
    "titanic_dataset.columns"
   ]
  },
  {
   "cell_type": "code",
   "execution_count": 5,
   "metadata": {},
   "outputs": [],
   "source": [
    "#Encoding Categorial Columns\n",
    "le = preprocessing.LabelEncoder()\n",
    "titanic_dataset['Sex'] = le.fit_transform(titanic_dataset['Sex'])\n",
    "titanic_dataset['Embarked'] = le.fit_transform(titanic_dataset['Embarked'])"
   ]
  },
  {
   "cell_type": "code",
   "execution_count": 6,
   "metadata": {},
   "outputs": [],
   "source": [
    "#Eleminating unwanted features\n",
    "work_ds = titanic_dataset[['Survived', 'Pclass', 'Sex', 'Age', 'SibSp','Parch','Fare', 'Embarked']]\n",
    "para_list = ['Survived', 'Pclass', 'Sex', 'SibSp', 'Parch', 'Embarked']"
   ]
  },
  {
   "cell_type": "code",
   "execution_count": 7,
   "metadata": {},
   "outputs": [],
   "source": [
    "#function\n",
    "def naive_bayes(Parameter_list):\n",
    "    DV = []\n",
    "    AS =[]\n",
    "    for feature in Parameter_list:\n",
    "        y = work_ds[feature]\n",
    "        X= work_ds.drop([feature], axis=1)\n",
    "        X_train,X_test,y_train,y_test = train_test_split(X,y, test_size = 0.3, random_state = 0)\n",
    "        clf = BernoulliNB()\n",
    "        y_pred = clf.fit(X_train,y_train).predict(X_test)\n",
    "        Acc_score = accuracy_score(y_test,y_pred,normalize=True)\n",
    "        print(f\"DV = {feature} , Accuracy = {Acc_score}\")\n",
    "        print(confusion_matrix(y_test,y_pred))\n",
    "        print(\"\\n\")\n",
    "        DV.append(feature)\n",
    "        AS.append(Acc_score)\n",
    "        \n",
    "   \n",
    "    df = pd.DataFrame ({'Dependent Feature':  DV, 'Accuracy Score': AS })\n",
    "    return df"
   ]
  },
  {
   "cell_type": "code",
   "execution_count": 8,
   "metadata": {},
   "outputs": [
    {
     "name": "stdout",
     "output_type": "stream",
     "text": [
      "DV = Survived , Accuracy = 0.7715355805243446\n",
      "[[131  26]\n",
      " [ 35  75]]\n",
      "\n",
      "\n",
      "DV = Pclass , Accuracy = 0.5917602996254682\n",
      "[[ 30   8  32]\n",
      " [  9  10  30]\n",
      " [ 24   6 118]]\n",
      "\n",
      "\n",
      "DV = Sex , Accuracy = 0.7453183520599251\n",
      "[[ 49  49]\n",
      " [ 19 150]]\n",
      "\n",
      "\n",
      "DV = SibSp , Accuracy = 0.6891385767790262\n",
      "[[162  20   0   0   0   0   0]\n",
      " [ 43  22   0   0   0   0   0]\n",
      " [  6   2   0   0   0   0   0]\n",
      " [  5   2   0   0   0   0   0]\n",
      " [  2   0   0   0   0   0   0]\n",
      " [  1   0   0   0   0   0   0]\n",
      " [  2   0   0   0   0   0   0]]\n",
      "\n",
      "\n",
      "DV = Parch , Accuracy = 0.7153558052434457\n",
      "[[182  16   0   0   0]\n",
      " [ 31   9   0   0   0]\n",
      " [ 24   3   0   0   0]\n",
      " [  1   0   0   0   0]\n",
      " [  1   0   0   0   0]]\n",
      "\n",
      "\n",
      "DV = Embarked , Accuracy = 0.7340823970037453\n",
      "[[  0   0  49]\n",
      " [  0   0  22]\n",
      " [  0   0 196]]\n",
      "\n",
      "\n"
     ]
    },
    {
     "data": {
      "text/html": [
       "<div>\n",
       "<style scoped>\n",
       "    .dataframe tbody tr th:only-of-type {\n",
       "        vertical-align: middle;\n",
       "    }\n",
       "\n",
       "    .dataframe tbody tr th {\n",
       "        vertical-align: top;\n",
       "    }\n",
       "\n",
       "    .dataframe thead th {\n",
       "        text-align: right;\n",
       "    }\n",
       "</style>\n",
       "<table border=\"1\" class=\"dataframe\">\n",
       "  <thead>\n",
       "    <tr style=\"text-align: right;\">\n",
       "      <th></th>\n",
       "      <th>Dependent Feature</th>\n",
       "      <th>Accuracy Score</th>\n",
       "    </tr>\n",
       "  </thead>\n",
       "  <tbody>\n",
       "    <tr>\n",
       "      <th>0</th>\n",
       "      <td>Survived</td>\n",
       "      <td>0.771536</td>\n",
       "    </tr>\n",
       "    <tr>\n",
       "      <th>1</th>\n",
       "      <td>Pclass</td>\n",
       "      <td>0.591760</td>\n",
       "    </tr>\n",
       "    <tr>\n",
       "      <th>2</th>\n",
       "      <td>Sex</td>\n",
       "      <td>0.745318</td>\n",
       "    </tr>\n",
       "    <tr>\n",
       "      <th>3</th>\n",
       "      <td>SibSp</td>\n",
       "      <td>0.689139</td>\n",
       "    </tr>\n",
       "    <tr>\n",
       "      <th>4</th>\n",
       "      <td>Parch</td>\n",
       "      <td>0.715356</td>\n",
       "    </tr>\n",
       "    <tr>\n",
       "      <th>5</th>\n",
       "      <td>Embarked</td>\n",
       "      <td>0.734082</td>\n",
       "    </tr>\n",
       "  </tbody>\n",
       "</table>\n",
       "</div>"
      ],
      "text/plain": [
       "  Dependent Feature  Accuracy Score\n",
       "0          Survived        0.771536\n",
       "1            Pclass        0.591760\n",
       "2               Sex        0.745318\n",
       "3             SibSp        0.689139\n",
       "4             Parch        0.715356\n",
       "5          Embarked        0.734082"
      ]
     },
     "execution_count": 8,
     "metadata": {},
     "output_type": "execute_result"
    }
   ],
   "source": [
    "result = naive_bayes(para_list)\n",
    "result"
   ]
  },
  {
   "cell_type": "code",
   "execution_count": 9,
   "metadata": {},
   "outputs": [
    {
     "data": {
      "image/png": "[encoded data removed]",
      "text/plain": [
       "<Figure size 432x288 with 1 Axes>"
      ]
     },
     "metadata": {
      "needs_background": "light"
     },
     "output_type": "display_data"
    }
   ],
   "source": [
    "import matplotlib.pyplot as plt\n",
    "plt.bar(result['Dependent Feature'], result['Accuracy Score'],color = ['red', 'green'])\n",
    "plt.xlabel('Dependent Features') \n",
    "plt.ylabel('Accuracy') \n",
    "plt.title('Model Comparison_Naive Bayes') \n",
    "plt.show()"
   ]
  },
  {
   "cell_type": "code",
   "execution_count": 10,
   "metadata": {},
   "outputs": [
    {
     "name": "stdout",
     "output_type": "stream",
     "text": [
      "The best model with naive_bayes alogrithm is generated for DV as  Survived with a model accuracy of  0.771536\n"
     ]
    }
   ],
   "source": [
    "max = result['Accuracy Score'].max()\n",
    "best_model = result.loc[result['Accuracy Score'] == max]\n",
    "print(f\"The best model with naive_bayes alogrithm is generated for DV as {best_model['Dependent Feature'].to_string(index = False)} with a model accuracy of {best_model['Accuracy Score'].to_string(index = False)}\")"
   ]
  }
 ],
 "metadata": {
  "kernelspec": {
   "display_name": "Python 3",
   "language": "python",
   "name": "python3"
  },
  "language_info": {
   "codemirror_mode": {
    "name": "ipython",
    "version": 3
   },
   "file_extension": ".py",
   "mimetype": "text/x-python",
   "name": "python",
   "nbconvert_exporter": "python",
   "pygments_lexer": "ipython3",
   "version": "3.7.6"
  }
 },
 "nbformat": 4,
 "nbformat_minor": 4
}
