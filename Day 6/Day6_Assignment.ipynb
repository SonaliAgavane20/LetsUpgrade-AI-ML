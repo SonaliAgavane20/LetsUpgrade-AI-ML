{
 "cells": [
  {
   "cell_type": "markdown",
   "metadata": {},
   "source": [
    "__Question 1:\n",
    "Assuming that we have some email addresses in the \"username@companyname.com\" format, please write program\n",
    "to print the company name of a given email address. Both user names and company names are composed of letters\n",
    "only.\n",
    "Input Format:\n",
    "The first line of the input contains an email address.\n",
    "Output Format:\n",
    "Print the company name in single line.\n",
    "Example;\n",
    "Input:\n",
    "john@google.com\n",
    "Output:\n",
    "google__"
   ]
  },
  {
   "cell_type": "code",
   "execution_count": 6,
   "metadata": {},
   "outputs": [
    {
     "name": "stdout",
     "output_type": "stream",
     "text": [
      "Company name is :  google\n"
     ]
    }
   ],
   "source": [
    "email = \"john@google.com\"\n",
    "startIndex = email.index(\"@\")\n",
    "endIndex = email.index(\".\")\n",
    "companyName = email[startIndex+1:endIndex]\n",
    "print(\"Company name is : \",companyName)"
   ]
  },
  {
   "cell_type": "markdown",
   "metadata": {},
   "source": [
    "__Question 2:\n",
    "Write a program that accepts a comma-separated sequence of words as input and prints the words in a comma\n",
    "separated sequence after sorting them alphabetically.\n",
    "Input Format:\n",
    "The first line of input contains words separated by the comma.\n",
    "Output Format:\n",
    "Print the sorted words separated by the comma.\n",
    "Example:\n",
    "Input:\n",
    "without,hello,bag,world\n",
    "Output:\n",
    "bag,hello,without,world__"
   ]
  },
  {
   "cell_type": "code",
   "execution_count": 10,
   "metadata": {},
   "outputs": [
    {
     "name": "stdout",
     "output_type": "stream",
     "text": [
      "without,hello,bag,world\n",
      "bag,hello,without,world\n"
     ]
    }
   ],
   "source": [
    "words = \"without,hello,bag,world\"\n",
    "print(words)\n",
    "sortedWords = sorted(words.split(\",\"))\n",
    "newWords = \"\"\n",
    "for i in sortedWords:\n",
    "    newWords +=i\n",
    "    if i != sortedWords[-1]:\n",
    "        newWords += \",\"\n",
    "print(newWords)"
   ]
  },
  {
   "cell_type": "markdown",
   "metadata": {},
   "source": [
    "__Question 3:\n",
    "Create your own Jupyter Notebook for Sets.\n",
    "Reference link: https://www.w3schools.com/python/python_sets.asp__\n",
    "        "
   ]
  },
  {
   "cell_type": "markdown",
   "metadata": {},
   "source": [
    "Set\n",
    "A set is a collection which is unordered and unindexed. \n",
    "\n",
    "In Python sets are written with curly brackets.\n",
    "\n",
    "Sets are unordered, so you cannot be sure in which order the items will appear.\n",
    "\n",
    "We cannot access items in a set by referring to an index, since sets are unordered the items has no index.\n",
    "But we can loop through the set items using a for loop by using the in keyword.\n",
    "\n",
    "Once a set is created, we cannot change its items, but we can add new items.\n",
    "\n",
    "To add one item to a set use the __add()__ method.\n",
    "\n",
    "To add more than one item to a set use the __update()__ method.\n",
    "\n",
    "To determine how many items a set has, use the __len()__ method.\n",
    "\n",
    "To remove an item in a set, use the __remove()__, or the __discard()__ method.\n",
    "\n",
    "We can also use the __pop()__, method to remove an item, but this method will remove the last item. Remember that sets are unordered, so you will not know what item that gets removed.\n",
    "\n",
    "The __union()__ method returns a new set with all items from both sets.\n",
    "\n",
    "The __update()__ method inserts the items in set2 into set1.\n",
    "\n",
    "The __clear()__ method empties the set."
   ]
  },
  {
   "cell_type": "code",
   "execution_count": 14,
   "metadata": {},
   "outputs": [
    {
     "name": "stdout",
     "output_type": "stream",
     "text": [
      "values in set :  {'banana', 'cherry', 'apple'}\n",
      "Length of set is :  3\n",
      "After adding orange :  {'orange', 'banana', 'cherry', 'apple'}\n",
      "After removing banana :  {'grapes', 'orange', 'cherry', 'mango', 'apple'}\n",
      "After discarding grapes :  {'orange', 'cherry', 'mango', 'apple'}\n",
      "popped element :  orange\n",
      "union of two sets :  {'pomogranate', 'mango', 'watermelon', 'cherry', 'apple'}\n",
      "Updating set with another set :  {'pomogranate', 'cherry', 'mango', 'watermelon', 'apple'}\n",
      "All elements in set : \n",
      "pomogranate\n",
      "cherry\n",
      "mango\n",
      "watermelon\n",
      "apple\n"
     ]
    }
   ],
   "source": [
    "thisset = {\"apple\", \"banana\", \"cherry\"}\n",
    "print(\"values in set : \",thisset)\n",
    "print(\"Length of set is : \",len(thisset))\n",
    "thisset.add(\"orange\")\n",
    "print(\"After adding orange : \",thisset)\n",
    "thisset.update([\"orange\", \"mango\", \"grapes\"])\n",
    "thisset.remove(\"banana\")\n",
    "print(\"After removing banana : \",thisset)\n",
    "thisset.discard(\"grapes\")\n",
    "print(\"After discarding grapes : \",thisset)\n",
    "x = thisset.pop()\n",
    "print(\"popped element : \",x)\n",
    "thisset2 = {\"watermelon\", \"pomogranate\", \"apple\"}\n",
    "thisset3 = thisset.union(thisset2)\n",
    "print(\"union of two sets : \",thisset3)\n",
    "thisset.update(thisset2)\n",
    "print(\"Updating set with another set : \",thisset)\n",
    "print(\"All elements in set : \")\n",
    "for x in thisset:\n",
    "  print(x)"
   ]
  },
  {
   "cell_type": "markdown",
   "metadata": {},
   "source": [
    "__Question 4:\n",
    "Given a list of n-1 numbers ranging from 1 to n, your task is to find the missing number. There are no duplicates.\n",
    "Input Format:\n",
    "The first line contains n-1 numbers with each number separated by a space.\n",
    "Output Format:\n",
    "Print the missing number\n",
    "Example:\n",
    "Input:1 2 4 6 3 7 8\n",
    "Output:5\n",
    "Explanation:\n",
    "In the above list of numbers 5 is missing and hence 5 is the input__"
   ]
  },
  {
   "cell_type": "code",
   "execution_count": 28,
   "metadata": {},
   "outputs": [
    {
     "name": "stdout",
     "output_type": "stream",
     "text": [
      "Input :  1 2 4 6 3 7 8\n",
      "Output :  5\n"
     ]
    }
   ],
   "source": [
    "nums = [\"1\",\"2\",\"3\",\"4\",\"5\",\"6\",\"7\",\"8\"]\n",
    "inputNums = \"1 2 4 6 3 7 8\"\n",
    "print(\"Input : \",inputNums)\n",
    "newNums = inputNums.split(\" \")\n",
    "outputNums = \"\"\n",
    "for i in nums:\n",
    "    if i not in newNums:\n",
    "        outputNums += i\n",
    "        break\n",
    "print(\"Output : \",outputNums)"
   ]
  },
  {
   "cell_type": "markdown",
   "metadata": {},
   "source": [
    "__Question 5:\n",
    "With a given list L, write a program to print this list L after removing all duplicate values with original order reserved.\n",
    "Example:\n",
    "If the input list is\n",
    "12 24 35 24 88 120 155 88 120 155\n",
    "Then the output should be\n",
    "12 24 35 88 120 155\n",
    "Explanation:\n",
    "Third, seventh and ninth element of the list L has been removed because it was already present.\n",
    "Input Format:\n",
    "In one line take the elements of the list L with each element separated by a space.\n",
    "Output Format:\n",
    "Print the elements of the modified list in one line with each element separated by a space.\n",
    "Example:\n",
    "Input: 12 24 35 24\n",
    "Output:\n",
    "12 24 35__"
   ]
  },
  {
   "cell_type": "code",
   "execution_count": 35,
   "metadata": {},
   "outputs": [
    {
     "name": "stdout",
     "output_type": "stream",
     "text": [
      "input :  12 24 35 24 \n",
      "output :  12 24 35 \n"
     ]
    }
   ],
   "source": [
    "L = ['12','24','35','24']\n",
    "inputList = \"\"\n",
    "for i in L:\n",
    "    inputList += i+\" \"\n",
    "print(\"input : \",inputList)\n",
    "newList = []\n",
    "outputList = \"\"\n",
    "for i in L:\n",
    "    if i not in newList:\n",
    "        newList.append(i)\n",
    "for i in newList:\n",
    "    outputList += i+\" \"\n",
    "print(\"output : \",outputList)"
   ]
  }
 ],
 "metadata": {
  "kernelspec": {
   "display_name": "Python 3",
   "language": "python",
   "name": "python3"
  },
  "language_info": {
   "codemirror_mode": {
    "name": "ipython",
    "version": 3
   },
   "file_extension": ".py",
   "mimetype": "text/x-python",
   "name": "python",
   "nbconvert_exporter": "python",
   "pygments_lexer": "ipython3",
   "version": "3.7.6"
  }
 },
 "nbformat": 4,
 "nbformat_minor": 4
}
