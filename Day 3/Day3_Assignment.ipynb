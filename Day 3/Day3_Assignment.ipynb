{
 "cells": [
  {
   "cell_type": "markdown",
   "metadata": {},
   "source": [
    "__Question 1 :\n",
    "Write a program to subtract two complex numbers in Python__"
   ]
  },
  {
   "cell_type": "code",
   "execution_count": 2,
   "metadata": {},
   "outputs": [
    {
     "name": "stdout",
     "output_type": "stream",
     "text": [
      "Subtraction of (3+4j) and (5+2j) is : (-2+2j)\n"
     ]
    }
   ],
   "source": [
    "num1 = 3 + 4j\n",
    "num2 = 5 + 2j\n",
    "print(f'Subtraction of {num1} and {num2} is :',num1 - num2)"
   ]
  },
  {
   "cell_type": "markdown",
   "metadata": {},
   "source": [
    "__Question 2 :\n",
    "Write a program to find the fourth root of a number__\n"
   ]
  },
  {
   "cell_type": "code",
   "execution_count": 6,
   "metadata": {},
   "outputs": [
    {
     "name": "stdout",
     "output_type": "stream",
     "text": [
      "Fourth root of 81 is :  3\n"
     ]
    }
   ],
   "source": [
    "number = 81\n",
    "print(f'Fourth root of {number} is : ',int(number**(1/4)))"
   ]
  },
  {
   "cell_type": "markdown",
   "metadata": {},
   "source": [
    "__Question 3 :\n",
    "Write a program to swap two numbers in Python with the help of a temporary variable__"
   ]
  },
  {
   "cell_type": "code",
   "execution_count": 8,
   "metadata": {},
   "outputs": [
    {
     "name": "stdout",
     "output_type": "stream",
     "text": [
      "Before swapping value of num1 is :  2  and num2 is :  5\n",
      "After swapping value of num1 is :  5  and num2 is :  2\n"
     ]
    }
   ],
   "source": [
    "num1 = 2\n",
    "num2 = 5\n",
    "print('Before swapping value of num1 is : ',num1,' and num2 is : ',num2)\n",
    "temp = num1\n",
    "num1 = num2\n",
    "num2 = temp\n",
    "print('After swapping value of num1 is : ',num1,' and num2 is : ',num2)"
   ]
  },
  {
   "cell_type": "markdown",
   "metadata": {},
   "source": [
    "__Question 4:\n",
    "Write a program to swap two numbers in Python without using a temporary variable__"
   ]
  },
  {
   "cell_type": "code",
   "execution_count": 9,
   "metadata": {},
   "outputs": [
    {
     "name": "stdout",
     "output_type": "stream",
     "text": [
      "Before swapping value of num1 is :  2  and num2 is :  5\n",
      "After swapping value of num1 is :  5  and num2 is :  2\n"
     ]
    }
   ],
   "source": [
    "num1 = 2\n",
    "num2 = 5\n",
    "print('Before swapping value of num1 is : ',num1,' and num2 is : ',num2)\n",
    "num1, num2 = num2, num1\n",
    "print('After swapping value of num1 is : ',num1,' and num2 is : ',num2)"
   ]
  },
  {
   "cell_type": "markdown",
   "metadata": {},
   "source": [
    "__Question 5 :\n",
    "Write a program to convert fahrenheit to kelvin and celsius both__"
   ]
  },
  {
   "cell_type": "code",
   "execution_count": 11,
   "metadata": {},
   "outputs": [
    {
     "name": "stdout",
     "output_type": "stream",
     "text": [
      "enter temperature value in fahrenheit : 44\n",
      "Value of fahrenheit temperature 44.0 in kelvin is :  280.1666666666667\n",
      "Value of fahrenheit temperature 44.0 in celsius is :  6.666666666666667\n"
     ]
    }
   ],
   "source": [
    "fahrenheit = float(input('enter temperature value in fahrenheit : '))\n",
    "fahrenheit_to_kelvin = 273.5 + ((fahrenheit - 32.0) * (5.0/9.0))\n",
    "fahrenheit_to_celsius = (fahrenheit - 32) * 5 / 9\n",
    "print(f'Value of fahrenheit temperature {fahrenheit} in kelvin is : ',fahrenheit_to_kelvin)\n",
    "print(f'Value of fahrenheit temperature {fahrenheit} in celsius is : ',fahrenheit_to_celsius)"
   ]
  },
  {
   "cell_type": "markdown",
   "metadata": {},
   "source": [
    "__Question 6 : Write a program to demonstrate all the available data types in Python. Hint: Use type() function__"
   ]
  },
  {
   "cell_type": "code",
   "execution_count": 15,
   "metadata": {},
   "outputs": [
    {
     "name": "stdout",
     "output_type": "stream",
     "text": [
      "type of 20 is :  <class 'int'>\n",
      "type of 20.5 is :  <class 'float'>\n",
      "type of 1j is :  <class 'complex'>\n",
      "type of ['apple', 'banana', 'cherry'] is :  <class 'list'>\n",
      "type of ('apple', 'banana', 'cherry') is :  <class 'tuple'>\n",
      "type of range(0, 6) is :  <class 'range'>\n",
      "type of {'name': 'John', 'age': 36} is :  <class 'dict'>\n",
      "type of {'banana', 'cherry', 'apple'} is :  <class 'set'>\n",
      "type of True is :  <class 'bool'>\n",
      "type of b'Hello' is :  <class 'bytes'>\n"
     ]
    }
   ],
   "source": [
    "x = 20\n",
    "print(f'type of {x} is : ',type(x))\n",
    "x = 20.5\n",
    "print(f'type of {x} is : ',type(x))\n",
    "x = 1j\n",
    "print(f'type of {x} is : ',type(x))\n",
    "x = [\"apple\", \"banana\", \"cherry\"]\n",
    "print(f'type of {x} is : ',type(x))\n",
    "x = (\"apple\", \"banana\", \"cherry\")\n",
    "print(f'type of {x} is : ',type(x))\n",
    "x = range(6)\n",
    "print(f'type of {x} is : ',type(x))\n",
    "x = {\"name\" : \"John\", \"age\" : 36}\n",
    "print(f'type of {x} is : ',type(x))\n",
    "x = {\"apple\", \"banana\", \"cherry\"}\n",
    "print(f'type of {x} is : ',type(x))\n",
    "x = True\n",
    "print(f'type of {x} is : ',type(x))\n",
    "x = b\"Hello\"\n",
    "print(f'type of {x} is : ',type(x))"
   ]
  },
  {
   "cell_type": "markdown",
   "metadata": {},
   "source": [
    "__Question 7 :\n",
    "Create a Markdown cell in jupyter and list the steps discussed in the session by Dr. Darshan\n",
    "Ingle sir to create Github profile and upload Githubs Assignment link__"
   ]
  },
  {
   "cell_type": "markdown",
   "metadata": {},
   "source": [
    "__Steps to create github profile and upload githubs Assignment link is as follows :__\n",
    "1. Go to github.com\n",
    "2. Click on sign up, fill details and create your github profile\n",
    "3. Click on new repository button to create repository\n",
    "4. Write repository name as \"LetsUpgrade/AI-ML\"\n",
    "5. Write description in description field\n",
    "6. Keep the repository public\n",
    "7. Click on create repository button\n",
    "8. Inside LetsUpgrade/AI-ML repository folder click on uploading an existing file\n",
    "9. Drag and drop your assignment folder\n",
    "10. Click on commit changes\n",
    "11. Go inside the uploaded folder,copy the link and paste it in the assignment submission form. \n",
    "\n",
    "## Woohooo successfully completed and submitted the assignment !!\n"
   ]
  }
 ],
 "metadata": {
  "kernelspec": {
   "display_name": "Python 3",
   "language": "python",
   "name": "python3"
  },
  "language_info": {
   "codemirror_mode": {
    "name": "ipython",
    "version": 3
   },
   "file_extension": ".py",
   "mimetype": "text/x-python",
   "name": "python",
   "nbconvert_exporter": "python",
   "pygments_lexer": "ipython3",
   "version": "3.7.6"
  }
 },
 "nbformat": 4,
 "nbformat_minor": 4
}
